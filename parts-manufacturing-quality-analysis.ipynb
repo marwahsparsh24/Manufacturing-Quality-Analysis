{
 "cells": [
  {
   "cell_type": "markdown",
   "id": "48ed1ba8",
   "metadata": {
    "_cell_guid": "b1076dfc-b9ad-4769-8c92-a6c4dae69d19",
    "_uuid": "8f2839f25d086af736a60e9eeb907d3b93b6e0e5",
    "papermill": {
     "duration": 0.01843,
     "end_time": "2022-07-14T14:03:27.157157",
     "exception": false,
     "start_time": "2022-07-14T14:03:27.138727",
     "status": "completed"
    },
    "tags": []
   },
   "source": [
    "# Parts Manufacturing - Quality Analysis"
   ]
  },
  {
   "cell_type": "markdown",
   "id": "46ccb709",
   "metadata": {
    "papermill": {
     "duration": 0.016737,
     "end_time": "2022-07-14T14:03:27.191731",
     "exception": false,
     "start_time": "2022-07-14T14:03:27.174994",
     "status": "completed"
    },
    "tags": []
   },
   "source": [
    "**Importing libraries**"
   ]
  },
  {
   "cell_type": "code",
   "execution_count": 1,
   "id": "687f3d76",
   "metadata": {
    "execution": {
     "iopub.execute_input": "2022-07-14T14:03:27.230004Z",
     "iopub.status.busy": "2022-07-14T14:03:27.229377Z",
     "iopub.status.idle": "2022-07-14T14:03:39.650105Z",
     "shell.execute_reply": "2022-07-14T14:03:39.649188Z"
    },
    "papermill": {
     "duration": 12.443126,
     "end_time": "2022-07-14T14:03:39.652801",
     "exception": false,
     "start_time": "2022-07-14T14:03:27.209675",
     "status": "completed"
    },
    "tags": []
   },
   "outputs": [],
   "source": [
    "import numpy as np\n",
    "import pandas as pd\n",
    "import matplotlib.pyplot as plt\n",
    "import seaborn as sns\n",
    "from matplotlib.cbook import boxplot_stats\n",
    "from scipy.stats import binom\n",
    "from sklearn.model_selection import train_test_split\n",
    "from sklearn.preprocessing import MinMaxScaler\n",
    "import tensorflow as tf\n",
    "from tensorflow.keras.models import Sequential\n",
    "from tensorflow.keras.layers import Dense,Dropout\n",
    "from sklearn.metrics import classification_report, confusion_matrix\n",
    "\n",
    "%matplotlib inline"
   ]
  },
  {
   "cell_type": "markdown",
   "id": "828d1cbc",
   "metadata": {
    "papermill": {
     "duration": 0.01739,
     "end_time": "2022-07-14T14:03:39.687358",
     "exception": false,
     "start_time": "2022-07-14T14:03:39.669968",
     "status": "completed"
    },
    "tags": []
   },
   "source": [
    "**Loading the dataset**"
   ]
  },
  {
   "cell_type": "code",
   "execution_count": 2,
   "id": "18747a1d",
   "metadata": {
    "execution": {
     "iopub.execute_input": "2022-07-14T14:03:39.725033Z",
     "iopub.status.busy": "2022-07-14T14:03:39.724044Z",
     "iopub.status.idle": "2022-07-14T14:03:39.745079Z",
     "shell.execute_reply": "2022-07-14T14:03:39.744173Z"
    },
    "papermill": {
     "duration": 0.043855,
     "end_time": "2022-07-14T14:03:39.747723",
     "exception": false,
     "start_time": "2022-07-14T14:03:39.703868",
     "status": "completed"
    },
    "tags": []
   },
   "outputs": [],
   "source": [
    "df = pd.read_csv('../input/parts-manufacturing-industry-dataset/Piece_Dimension.csv')"
   ]
  },
  {
   "cell_type": "code",
   "execution_count": 3,
   "id": "f1d4b102",
   "metadata": {
    "execution": {
     "iopub.execute_input": "2022-07-14T14:03:39.785283Z",
     "iopub.status.busy": "2022-07-14T14:03:39.784581Z",
     "iopub.status.idle": "2022-07-14T14:03:39.810055Z",
     "shell.execute_reply": "2022-07-14T14:03:39.808699Z"
    },
    "papermill": {
     "duration": 0.047184,
     "end_time": "2022-07-14T14:03:39.812584",
     "exception": false,
     "start_time": "2022-07-14T14:03:39.765400",
     "status": "completed"
    },
    "tags": []
   },
   "outputs": [
    {
     "data": {
      "text/html": [
       "<div>\n",
       "<style scoped>\n",
       "    .dataframe tbody tr th:only-of-type {\n",
       "        vertical-align: middle;\n",
       "    }\n",
       "\n",
       "    .dataframe tbody tr th {\n",
       "        vertical-align: top;\n",
       "    }\n",
       "\n",
       "    .dataframe thead th {\n",
       "        text-align: right;\n",
       "    }\n",
       "</style>\n",
       "<table border=\"1\" class=\"dataframe\">\n",
       "  <thead>\n",
       "    <tr style=\"text-align: right;\">\n",
       "      <th></th>\n",
       "      <th>Item_No</th>\n",
       "      <th>Length</th>\n",
       "      <th>Width</th>\n",
       "      <th>Height</th>\n",
       "      <th>Operator</th>\n",
       "    </tr>\n",
       "  </thead>\n",
       "  <tbody>\n",
       "    <tr>\n",
       "      <th>0</th>\n",
       "      <td>1</td>\n",
       "      <td>102.67</td>\n",
       "      <td>49.53</td>\n",
       "      <td>19.69</td>\n",
       "      <td>Op-1</td>\n",
       "    </tr>\n",
       "    <tr>\n",
       "      <th>1</th>\n",
       "      <td>2</td>\n",
       "      <td>102.50</td>\n",
       "      <td>51.42</td>\n",
       "      <td>19.63</td>\n",
       "      <td>Op-1</td>\n",
       "    </tr>\n",
       "    <tr>\n",
       "      <th>2</th>\n",
       "      <td>3</td>\n",
       "      <td>95.37</td>\n",
       "      <td>52.25</td>\n",
       "      <td>21.51</td>\n",
       "      <td>Op-1</td>\n",
       "    </tr>\n",
       "    <tr>\n",
       "      <th>3</th>\n",
       "      <td>4</td>\n",
       "      <td>94.77</td>\n",
       "      <td>49.24</td>\n",
       "      <td>18.60</td>\n",
       "      <td>Op-1</td>\n",
       "    </tr>\n",
       "    <tr>\n",
       "      <th>4</th>\n",
       "      <td>5</td>\n",
       "      <td>104.26</td>\n",
       "      <td>47.90</td>\n",
       "      <td>19.46</td>\n",
       "      <td>Op-1</td>\n",
       "    </tr>\n",
       "  </tbody>\n",
       "</table>\n",
       "</div>"
      ],
      "text/plain": [
       "   Item_No  Length  Width  Height Operator\n",
       "0        1  102.67  49.53   19.69     Op-1\n",
       "1        2  102.50  51.42   19.63     Op-1\n",
       "2        3   95.37  52.25   21.51     Op-1\n",
       "3        4   94.77  49.24   18.60     Op-1\n",
       "4        5  104.26  47.90   19.46     Op-1"
      ]
     },
     "execution_count": 3,
     "metadata": {},
     "output_type": "execute_result"
    }
   ],
   "source": [
    "df.head()"
   ]
  },
  {
   "cell_type": "code",
   "execution_count": 4,
   "id": "860f6f7c",
   "metadata": {
    "execution": {
     "iopub.execute_input": "2022-07-14T14:03:39.849515Z",
     "iopub.status.busy": "2022-07-14T14:03:39.848714Z",
     "iopub.status.idle": "2022-07-14T14:03:39.873942Z",
     "shell.execute_reply": "2022-07-14T14:03:39.872937Z"
    },
    "papermill": {
     "duration": 0.046471,
     "end_time": "2022-07-14T14:03:39.876706",
     "exception": false,
     "start_time": "2022-07-14T14:03:39.830235",
     "status": "completed"
    },
    "tags": []
   },
   "outputs": [
    {
     "name": "stdout",
     "output_type": "stream",
     "text": [
      "<class 'pandas.core.frame.DataFrame'>\n",
      "RangeIndex: 500 entries, 0 to 499\n",
      "Data columns (total 5 columns):\n",
      " #   Column    Non-Null Count  Dtype  \n",
      "---  ------    --------------  -----  \n",
      " 0   Item_No   500 non-null    int64  \n",
      " 1   Length    500 non-null    float64\n",
      " 2   Width     500 non-null    float64\n",
      " 3   Height    500 non-null    float64\n",
      " 4   Operator  500 non-null    object \n",
      "dtypes: float64(3), int64(1), object(1)\n",
      "memory usage: 19.7+ KB\n"
     ]
    }
   ],
   "source": [
    "df.info()"
   ]
  },
  {
   "cell_type": "code",
   "execution_count": 5,
   "id": "0027d507",
   "metadata": {
    "execution": {
     "iopub.execute_input": "2022-07-14T14:03:39.914732Z",
     "iopub.status.busy": "2022-07-14T14:03:39.913987Z",
     "iopub.status.idle": "2022-07-14T14:03:39.941328Z",
     "shell.execute_reply": "2022-07-14T14:03:39.940075Z"
    },
    "papermill": {
     "duration": 0.049053,
     "end_time": "2022-07-14T14:03:39.944053",
     "exception": false,
     "start_time": "2022-07-14T14:03:39.895000",
     "status": "completed"
    },
    "tags": []
   },
   "outputs": [
    {
     "data": {
      "text/html": [
       "<div>\n",
       "<style scoped>\n",
       "    .dataframe tbody tr th:only-of-type {\n",
       "        vertical-align: middle;\n",
       "    }\n",
       "\n",
       "    .dataframe tbody tr th {\n",
       "        vertical-align: top;\n",
       "    }\n",
       "\n",
       "    .dataframe thead th {\n",
       "        text-align: right;\n",
       "    }\n",
       "</style>\n",
       "<table border=\"1\" class=\"dataframe\">\n",
       "  <thead>\n",
       "    <tr style=\"text-align: right;\">\n",
       "      <th></th>\n",
       "      <th>Item_No</th>\n",
       "      <th>Length</th>\n",
       "      <th>Width</th>\n",
       "      <th>Height</th>\n",
       "    </tr>\n",
       "  </thead>\n",
       "  <tbody>\n",
       "    <tr>\n",
       "      <th>count</th>\n",
       "      <td>500.000000</td>\n",
       "      <td>500.000000</td>\n",
       "      <td>500.00000</td>\n",
       "      <td>500.000000</td>\n",
       "    </tr>\n",
       "    <tr>\n",
       "      <th>mean</th>\n",
       "      <td>250.500000</td>\n",
       "      <td>99.769140</td>\n",
       "      <td>49.93288</td>\n",
       "      <td>20.293220</td>\n",
       "    </tr>\n",
       "    <tr>\n",
       "      <th>std</th>\n",
       "      <td>144.481833</td>\n",
       "      <td>4.107471</td>\n",
       "      <td>2.11382</td>\n",
       "      <td>1.051718</td>\n",
       "    </tr>\n",
       "    <tr>\n",
       "      <th>min</th>\n",
       "      <td>1.000000</td>\n",
       "      <td>87.520000</td>\n",
       "      <td>42.74000</td>\n",
       "      <td>17.370000</td>\n",
       "    </tr>\n",
       "    <tr>\n",
       "      <th>25%</th>\n",
       "      <td>125.750000</td>\n",
       "      <td>96.835000</td>\n",
       "      <td>48.34000</td>\n",
       "      <td>19.475000</td>\n",
       "    </tr>\n",
       "    <tr>\n",
       "      <th>50%</th>\n",
       "      <td>250.500000</td>\n",
       "      <td>99.565000</td>\n",
       "      <td>49.82500</td>\n",
       "      <td>20.310000</td>\n",
       "    </tr>\n",
       "    <tr>\n",
       "      <th>75%</th>\n",
       "      <td>375.250000</td>\n",
       "      <td>102.035000</td>\n",
       "      <td>51.46250</td>\n",
       "      <td>21.142500</td>\n",
       "    </tr>\n",
       "    <tr>\n",
       "      <th>max</th>\n",
       "      <td>500.000000</td>\n",
       "      <td>116.600000</td>\n",
       "      <td>58.26000</td>\n",
       "      <td>23.390000</td>\n",
       "    </tr>\n",
       "  </tbody>\n",
       "</table>\n",
       "</div>"
      ],
      "text/plain": [
       "          Item_No      Length      Width      Height\n",
       "count  500.000000  500.000000  500.00000  500.000000\n",
       "mean   250.500000   99.769140   49.93288   20.293220\n",
       "std    144.481833    4.107471    2.11382    1.051718\n",
       "min      1.000000   87.520000   42.74000   17.370000\n",
       "25%    125.750000   96.835000   48.34000   19.475000\n",
       "50%    250.500000   99.565000   49.82500   20.310000\n",
       "75%    375.250000  102.035000   51.46250   21.142500\n",
       "max    500.000000  116.600000   58.26000   23.390000"
      ]
     },
     "execution_count": 5,
     "metadata": {},
     "output_type": "execute_result"
    }
   ],
   "source": [
    "df.describe()"
   ]
  },
  {
   "cell_type": "markdown",
   "id": "79a7c0eb",
   "metadata": {
    "papermill": {
     "duration": 0.0177,
     "end_time": "2022-07-14T14:03:39.979461",
     "exception": false,
     "start_time": "2022-07-14T14:03:39.961761",
     "status": "completed"
    },
    "tags": []
   },
   "source": [
    "* We have 5 features: Item_No, Length, Width, Height and Operator.\n",
    "* As we don't need the Item_No, let's drop it.\n",
    "* Here we also might analyze the volume of each part."
   ]
  },
  {
   "cell_type": "markdown",
   "id": "525a1b71",
   "metadata": {
    "papermill": {
     "duration": 0.019816,
     "end_time": "2022-07-14T14:03:40.016683",
     "exception": false,
     "start_time": "2022-07-14T14:03:39.996867",
     "status": "completed"
    },
    "tags": []
   },
   "source": [
    "## Initial Analysis"
   ]
  },
  {
   "cell_type": "markdown",
   "id": "135291d9",
   "metadata": {
    "papermill": {
     "duration": 0.019017,
     "end_time": "2022-07-14T14:03:40.056002",
     "exception": false,
     "start_time": "2022-07-14T14:03:40.036985",
     "status": "completed"
    },
    "tags": []
   },
   "source": [
    "**Dropping Item_No column**"
   ]
  },
  {
   "cell_type": "code",
   "execution_count": 6,
   "id": "5bfcca32",
   "metadata": {
    "execution": {
     "iopub.execute_input": "2022-07-14T14:03:40.093711Z",
     "iopub.status.busy": "2022-07-14T14:03:40.093304Z",
     "iopub.status.idle": "2022-07-14T14:03:40.099349Z",
     "shell.execute_reply": "2022-07-14T14:03:40.098411Z"
    },
    "papermill": {
     "duration": 0.028519,
     "end_time": "2022-07-14T14:03:40.102440",
     "exception": false,
     "start_time": "2022-07-14T14:03:40.073921",
     "status": "completed"
    },
    "tags": []
   },
   "outputs": [],
   "source": [
    "df = df.drop('Item_No', axis=1)"
   ]
  },
  {
   "cell_type": "markdown",
   "id": "a624afa4",
   "metadata": {
    "papermill": {
     "duration": 0.018638,
     "end_time": "2022-07-14T14:03:40.139016",
     "exception": false,
     "start_time": "2022-07-14T14:03:40.120378",
     "status": "completed"
    },
    "tags": []
   },
   "source": [
    "**Analyzing Volume - Packaging**"
   ]
  },
  {
   "cell_type": "code",
   "execution_count": 7,
   "id": "c536144f",
   "metadata": {
    "execution": {
     "iopub.execute_input": "2022-07-14T14:03:40.177976Z",
     "iopub.status.busy": "2022-07-14T14:03:40.177259Z",
     "iopub.status.idle": "2022-07-14T14:03:40.183681Z",
     "shell.execute_reply": "2022-07-14T14:03:40.182737Z"
    },
    "papermill": {
     "duration": 0.029355,
     "end_time": "2022-07-14T14:03:40.186483",
     "exception": false,
     "start_time": "2022-07-14T14:03:40.157128",
     "status": "completed"
    },
    "tags": []
   },
   "outputs": [],
   "source": [
    "df['Volume'] = round((df['Length'] *  df['Width'] *  df['Height']), 2)"
   ]
  },
  {
   "cell_type": "code",
   "execution_count": 8,
   "id": "aa3290b7",
   "metadata": {
    "execution": {
     "iopub.execute_input": "2022-07-14T14:03:40.223923Z",
     "iopub.status.busy": "2022-07-14T14:03:40.223225Z",
     "iopub.status.idle": "2022-07-14T14:03:40.230652Z",
     "shell.execute_reply": "2022-07-14T14:03:40.229434Z"
    },
    "papermill": {
     "duration": 0.029312,
     "end_time": "2022-07-14T14:03:40.233609",
     "exception": false,
     "start_time": "2022-07-14T14:03:40.204297",
     "status": "completed"
    },
    "tags": []
   },
   "outputs": [
    {
     "name": "stdout",
     "output_type": "stream",
     "text": [
      "We should consider a package with the volume of 146754.61\n",
      "We should also consider an internal filling of the package with the volume of 71750.93\n"
     ]
    }
   ],
   "source": [
    "max_volume = df['Volume'].max()\n",
    "min_volume = df['Volume'].min()\n",
    "\n",
    "print('We should consider a package with the volume of ' + str(max_volume))\n",
    "print('We should also consider an internal filling of the package with the volume of ' + str(max_volume - min_volume))"
   ]
  },
  {
   "cell_type": "markdown",
   "id": "faa80dc9",
   "metadata": {
    "papermill": {
     "duration": 0.017097,
     "end_time": "2022-07-14T14:03:40.268990",
     "exception": false,
     "start_time": "2022-07-14T14:03:40.251893",
     "status": "completed"
    },
    "tags": []
   },
   "source": [
    "* We should consider a package with the volume of 146754.61\n",
    "* We should also consider an internal filling of the package with the volume of 71750.93"
   ]
  },
  {
   "cell_type": "markdown",
   "id": "9e480490",
   "metadata": {
    "papermill": {
     "duration": 0.017602,
     "end_time": "2022-07-14T14:03:40.303860",
     "exception": false,
     "start_time": "2022-07-14T14:03:40.286258",
     "status": "completed"
    },
    "tags": []
   },
   "source": [
    "## Exploratory Data Analysis"
   ]
  },
  {
   "cell_type": "markdown",
   "id": "16361e2b",
   "metadata": {
    "papermill": {
     "duration": 0.01719,
     "end_time": "2022-07-14T14:03:40.338365",
     "exception": false,
     "start_time": "2022-07-14T14:03:40.321175",
     "status": "completed"
    },
    "tags": []
   },
   "source": [
    "As we don't need \"Volume\" anymore since the information is implicit in the other variables, let's drop it."
   ]
  },
  {
   "cell_type": "code",
   "execution_count": 9,
   "id": "38da859d",
   "metadata": {
    "execution": {
     "iopub.execute_input": "2022-07-14T14:03:40.376057Z",
     "iopub.status.busy": "2022-07-14T14:03:40.375186Z",
     "iopub.status.idle": "2022-07-14T14:03:40.381320Z",
     "shell.execute_reply": "2022-07-14T14:03:40.380040Z"
    },
    "papermill": {
     "duration": 0.027665,
     "end_time": "2022-07-14T14:03:40.384000",
     "exception": false,
     "start_time": "2022-07-14T14:03:40.356335",
     "status": "completed"
    },
    "tags": []
   },
   "outputs": [],
   "source": [
    "df = df.drop('Volume', axis=1)"
   ]
  },
  {
   "cell_type": "code",
   "execution_count": 10,
   "id": "3750c098",
   "metadata": {
    "execution": {
     "iopub.execute_input": "2022-07-14T14:03:40.423419Z",
     "iopub.status.busy": "2022-07-14T14:03:40.422441Z",
     "iopub.status.idle": "2022-07-14T14:03:40.820904Z",
     "shell.execute_reply": "2022-07-14T14:03:40.819821Z"
    },
    "papermill": {
     "duration": 0.421388,
     "end_time": "2022-07-14T14:03:40.823408",
     "exception": false,
     "start_time": "2022-07-14T14:03:40.402020",
     "status": "completed"
    },
    "tags": []
   },
   "outputs": [
    {
     "data": {
      "text/plain": [
       "<AxesSubplot:xlabel='Operator', ylabel='count'>"
      ]
     },
     "execution_count": 10,
     "metadata": {},
     "output_type": "execute_result"
    },
    {
     "data": {
      "image/png": "[encoded data removed]",
      "text/plain": [
       "<Figure size 864x288 with 1 Axes>"
      ]
     },
     "metadata": {
      "needs_background": "light"
     },
     "output_type": "display_data"
    }
   ],
   "source": [
    "plt.figure(figsize=(12,4))\n",
    "sns.set_theme(style=\"whitegrid\")\n",
    "#sns.countplot(data=df, x='Operator', order=df['Operator'].value_counts().index) Asceding order\n",
    "sns.countplot(data=df, x='Operator', order=df['Operator'].value_counts().index[::-1])"
   ]
  },
  {
   "cell_type": "markdown",
   "id": "4a76d7b9",
   "metadata": {
    "papermill": {
     "duration": 0.017704,
     "end_time": "2022-07-14T14:03:40.859178",
     "exception": false,
     "start_time": "2022-07-14T14:03:40.841474",
     "status": "completed"
    },
    "tags": []
   },
   "source": [
    "So we have the number of parts each operator made in the period."
   ]
  },
  {
   "cell_type": "code",
   "execution_count": 11,
   "id": "68cd5b92",
   "metadata": {
    "execution": {
     "iopub.execute_input": "2022-07-14T14:03:40.897588Z",
     "iopub.status.busy": "2022-07-14T14:03:40.896814Z",
     "iopub.status.idle": "2022-07-14T14:03:41.282350Z",
     "shell.execute_reply": "2022-07-14T14:03:41.281249Z"
    },
    "papermill": {
     "duration": 0.407614,
     "end_time": "2022-07-14T14:03:41.284936",
     "exception": false,
     "start_time": "2022-07-14T14:03:40.877322",
     "status": "completed"
    },
    "tags": []
   },
   "outputs": [
    {
     "data": {
      "image/png": "[encoded data removed]",
      "text/plain": [
       "<Figure size 576x288 with 3 Axes>"
      ]
     },
     "metadata": {},
     "output_type": "display_data"
    }
   ],
   "source": [
    "#dfLength = df['Length'].values\n",
    "#dfWidth = df['Width'].values\n",
    "#dfHeight = df['Height'].values\n",
    "#sns.boxplot(data=dfLength, orient='v', ax=axes[0])\n",
    "#sns.boxplot(data=dfWidth, orient='v', ax=axes[1])\n",
    "#sns.boxplot(data=dfHeight, orient='v', ax=axes[2])\n",
    "\n",
    "fig, axes = plt.subplots(nrows=1, ncols=3, figsize=(8,4))\n",
    "\n",
    "sns.boxplot(data=df, y=df['Length'], ax=axes[0])\n",
    "sns.boxplot(data=df, y=df['Width'], ax=axes[1])\n",
    "sns.boxplot(data=df, y=df['Height'], ax=axes[2])\n",
    "\n",
    "fig.tight_layout()"
   ]
  },
  {
   "cell_type": "code",
   "execution_count": 12,
   "id": "4e9726f7",
   "metadata": {
    "execution": {
     "iopub.execute_input": "2022-07-14T14:03:41.323506Z",
     "iopub.status.busy": "2022-07-14T14:03:41.322711Z",
     "iopub.status.idle": "2022-07-14T14:03:42.165161Z",
     "shell.execute_reply": "2022-07-14T14:03:42.163761Z"
    },
    "papermill": {
     "duration": 0.865016,
     "end_time": "2022-07-14T14:03:42.167884",
     "exception": false,
     "start_time": "2022-07-14T14:03:41.302868",
     "status": "completed"
    },
    "tags": []
   },
   "outputs": [
    {
     "data": {
      "image/png": "[encoded data removed]",
      "text/plain": [
       "<Figure size 864x288 with 3 Axes>"
      ]
     },
     "metadata": {},
     "output_type": "display_data"
    }
   ],
   "source": [
    "sns.set_theme(style=\"whitegrid\")\n",
    "\n",
    "fig, axes = plt.subplots(nrows=1, ncols=3, figsize=(12,4))\n",
    "\n",
    "sns.histplot(data=df, x=df['Length'], kde=True, ax=axes[0])\n",
    "sns.histplot(data=df, x=df['Width'], kde=True, ax=axes[1])\n",
    "sns.histplot(data=df, x=df['Height'], kde=True, ax=axes[2])\n",
    "\n",
    "fig.tight_layout()"
   ]
  },
  {
   "cell_type": "markdown",
   "id": "187a805d",
   "metadata": {
    "papermill": {
     "duration": 0.018535,
     "end_time": "2022-07-14T14:03:42.205713",
     "exception": false,
     "start_time": "2022-07-14T14:03:42.187178",
     "status": "completed"
    },
    "tags": []
   },
   "source": [
    "So let's consider that outliers from the boxplot are 'Defective'\n",
    "\n",
    "The lower whisker is at the lowest datum above Q1 - whis x (Q3-Q1), and the upper whisker at the highest datum below Q3 + whis x (Q3-Q1), where Q1 and Q3 are the first and third quartiles. The default value of whis = 1.5 corresponds to Tukey's original definition of boxplots."
   ]
  },
  {
   "cell_type": "code",
   "execution_count": 13,
   "id": "b0f5bad0",
   "metadata": {
    "execution": {
     "iopub.execute_input": "2022-07-14T14:03:42.246295Z",
     "iopub.status.busy": "2022-07-14T14:03:42.245576Z",
     "iopub.status.idle": "2022-07-14T14:03:42.250066Z",
     "shell.execute_reply": "2022-07-14T14:03:42.249311Z"
    },
    "papermill": {
     "duration": 0.027633,
     "end_time": "2022-07-14T14:03:42.252047",
     "exception": false,
     "start_time": "2022-07-14T14:03:42.224414",
     "status": "completed"
    },
    "tags": []
   },
   "outputs": [],
   "source": [
    "feat = ['Length','Width','Height']"
   ]
  },
  {
   "cell_type": "code",
   "execution_count": 14,
   "id": "fbce17fb",
   "metadata": {
    "execution": {
     "iopub.execute_input": "2022-07-14T14:03:42.293109Z",
     "iopub.status.busy": "2022-07-14T14:03:42.292042Z",
     "iopub.status.idle": "2022-07-14T14:03:42.303910Z",
     "shell.execute_reply": "2022-07-14T14:03:42.302502Z"
    },
    "papermill": {
     "duration": 0.035133,
     "end_time": "2022-07-14T14:03:42.306550",
     "exception": false,
     "start_time": "2022-07-14T14:03:42.271417",
     "status": "completed"
    },
    "tags": []
   },
   "outputs": [
    {
     "name": "stdout",
     "output_type": "stream",
     "text": [
      "Length\n",
      "mean                                               99.76914\n",
      "iqr                                                     5.2\n",
      "cilo                                              99.199895\n",
      "cihi                                              99.930105\n",
      "whishi                                               109.79\n",
      "whislo                                                89.82\n",
      "fliers    [87.52, 88.28, 110.54, 110.18, 110.72, 112.69,...\n",
      "q1                                                   96.835\n",
      "med                                                  99.565\n",
      "q3                                                  102.035\n",
      "dtype: object\n",
      "\n",
      "\n",
      "Width\n",
      "mean                          49.93288\n",
      "iqr                             3.1225\n",
      "cilo                         49.605761\n",
      "cihi                         50.044239\n",
      "whishi                           56.04\n",
      "whislo                            43.8\n",
      "fliers    [42.74, 57.26, 58.26, 56.26]\n",
      "q1                               48.34\n",
      "med                             49.825\n",
      "q3                             51.4625\n",
      "dtype: object\n",
      "\n",
      "\n",
      "Height\n",
      "mean       20.29322\n",
      "iqr          1.6675\n",
      "cilo      20.192921\n",
      "cihi      20.427079\n",
      "whishi        23.39\n",
      "whislo        17.37\n",
      "fliers           []\n",
      "q1           19.475\n",
      "med           20.31\n",
      "q3          21.1425\n",
      "dtype: object\n",
      "\n",
      "\n"
     ]
    }
   ],
   "source": [
    "#feat = ['Length','Width','Height']\n",
    "for col in feat:\n",
    "    print(col)\n",
    "    print(pd.Series(boxplot_stats(df[col])[0]))\n",
    "    print('\\n')"
   ]
  },
  {
   "cell_type": "code",
   "execution_count": 15,
   "id": "10a1918b",
   "metadata": {
    "execution": {
     "iopub.execute_input": "2022-07-14T14:03:42.346839Z",
     "iopub.status.busy": "2022-07-14T14:03:42.346397Z",
     "iopub.status.idle": "2022-07-14T14:03:43.053288Z",
     "shell.execute_reply": "2022-07-14T14:03:43.051962Z"
    },
    "papermill": {
     "duration": 0.73061,
     "end_time": "2022-07-14T14:03:43.056094",
     "exception": false,
     "start_time": "2022-07-14T14:03:42.325484",
     "status": "completed"
    },
    "tags": []
   },
   "outputs": [],
   "source": [
    "#feat = ['Length','Width','Height']\n",
    "\n",
    "def get_status(row):\n",
    "    # when applying the function get_status(), it is called each row at a time\n",
    "    # row is a pd.Series\n",
    "    #print('row: ', row, '\\n') <- try if you want to see what gets passed to the function\n",
    "    for col in feat:\n",
    "        # in each row you have to check 3 values (3 columns)\n",
    "        # if this if condition is True only once, the function returns 'Defective'\n",
    "        if (\n",
    "            (row[col] > boxplot_stats(df[col])[0]['whishi']) \n",
    "            or \n",
    "            (row[col] < boxplot_stats(df[col])[0]['whislo'])\n",
    "        ):\n",
    "            \n",
    "            return 'Defective'\n",
    "        \n",
    "    # if it didn't return anything till here (-> 3x condition was False) it will return `Perfect\n",
    "    return 'Perfect'\n",
    "\n",
    "df['Status'] = df.apply(get_status,axis=1)"
   ]
  },
  {
   "cell_type": "code",
   "execution_count": 16,
   "id": "49701ee1",
   "metadata": {
    "execution": {
     "iopub.execute_input": "2022-07-14T14:03:43.096253Z",
     "iopub.status.busy": "2022-07-14T14:03:43.095839Z",
     "iopub.status.idle": "2022-07-14T14:03:43.116843Z",
     "shell.execute_reply": "2022-07-14T14:03:43.115718Z"
    },
    "papermill": {
     "duration": 0.044371,
     "end_time": "2022-07-14T14:03:43.119249",
     "exception": false,
     "start_time": "2022-07-14T14:03:43.074878",
     "status": "completed"
    },
    "tags": []
   },
   "outputs": [
    {
     "data": {
      "text/html": [
       "<div>\n",
       "<style scoped>\n",
       "    .dataframe tbody tr th:only-of-type {\n",
       "        vertical-align: middle;\n",
       "    }\n",
       "\n",
       "    .dataframe tbody tr th {\n",
       "        vertical-align: top;\n",
       "    }\n",
       "\n",
       "    .dataframe thead th {\n",
       "        text-align: right;\n",
       "    }\n",
       "</style>\n",
       "<table border=\"1\" class=\"dataframe\">\n",
       "  <thead>\n",
       "    <tr style=\"text-align: right;\">\n",
       "      <th></th>\n",
       "      <th>Length</th>\n",
       "      <th>Width</th>\n",
       "      <th>Height</th>\n",
       "      <th>Operator</th>\n",
       "      <th>Status</th>\n",
       "    </tr>\n",
       "  </thead>\n",
       "  <tbody>\n",
       "    <tr>\n",
       "      <th>41</th>\n",
       "      <td>110.54</td>\n",
       "      <td>51.07</td>\n",
       "      <td>21.95</td>\n",
       "      <td>Op-2</td>\n",
       "      <td>Defective</td>\n",
       "    </tr>\n",
       "    <tr>\n",
       "      <th>56</th>\n",
       "      <td>110.18</td>\n",
       "      <td>51.89</td>\n",
       "      <td>21.36</td>\n",
       "      <td>Op-3</td>\n",
       "      <td>Defective</td>\n",
       "    </tr>\n",
       "    <tr>\n",
       "      <th>61</th>\n",
       "      <td>105.00</td>\n",
       "      <td>57.26</td>\n",
       "      <td>21.62</td>\n",
       "      <td>Op-3</td>\n",
       "      <td>Defective</td>\n",
       "    </tr>\n",
       "    <tr>\n",
       "      <th>63</th>\n",
       "      <td>110.72</td>\n",
       "      <td>52.54</td>\n",
       "      <td>21.06</td>\n",
       "      <td>Op-3</td>\n",
       "      <td>Defective</td>\n",
       "    </tr>\n",
       "    <tr>\n",
       "      <th>67</th>\n",
       "      <td>112.69</td>\n",
       "      <td>50.68</td>\n",
       "      <td>20.33</td>\n",
       "      <td>Op-3</td>\n",
       "      <td>Defective</td>\n",
       "    </tr>\n",
       "    <tr>\n",
       "      <th>68</th>\n",
       "      <td>111.83</td>\n",
       "      <td>53.31</td>\n",
       "      <td>20.12</td>\n",
       "      <td>Op-3</td>\n",
       "      <td>Defective</td>\n",
       "    </tr>\n",
       "    <tr>\n",
       "      <th>69</th>\n",
       "      <td>103.73</td>\n",
       "      <td>58.26</td>\n",
       "      <td>20.37</td>\n",
       "      <td>Op-3</td>\n",
       "      <td>Defective</td>\n",
       "    </tr>\n",
       "    <tr>\n",
       "      <th>71</th>\n",
       "      <td>109.87</td>\n",
       "      <td>52.23</td>\n",
       "      <td>20.94</td>\n",
       "      <td>Op-3</td>\n",
       "      <td>Defective</td>\n",
       "    </tr>\n",
       "    <tr>\n",
       "      <th>73</th>\n",
       "      <td>113.45</td>\n",
       "      <td>46.96</td>\n",
       "      <td>23.31</td>\n",
       "      <td>Op-3</td>\n",
       "      <td>Defective</td>\n",
       "    </tr>\n",
       "    <tr>\n",
       "      <th>85</th>\n",
       "      <td>104.22</td>\n",
       "      <td>42.74</td>\n",
       "      <td>19.05</td>\n",
       "      <td>Op-4</td>\n",
       "      <td>Defective</td>\n",
       "    </tr>\n",
       "    <tr>\n",
       "      <th>86</th>\n",
       "      <td>87.52</td>\n",
       "      <td>46.54</td>\n",
       "      <td>18.92</td>\n",
       "      <td>Op-4</td>\n",
       "      <td>Defective</td>\n",
       "    </tr>\n",
       "    <tr>\n",
       "      <th>93</th>\n",
       "      <td>88.28</td>\n",
       "      <td>45.58</td>\n",
       "      <td>18.64</td>\n",
       "      <td>Op-4</td>\n",
       "      <td>Defective</td>\n",
       "    </tr>\n",
       "    <tr>\n",
       "      <th>105</th>\n",
       "      <td>111.07</td>\n",
       "      <td>51.19</td>\n",
       "      <td>22.17</td>\n",
       "      <td>Op-5</td>\n",
       "      <td>Defective</td>\n",
       "    </tr>\n",
       "    <tr>\n",
       "      <th>120</th>\n",
       "      <td>110.71</td>\n",
       "      <td>52.01</td>\n",
       "      <td>21.58</td>\n",
       "      <td>Op-5</td>\n",
       "      <td>Defective</td>\n",
       "    </tr>\n",
       "    <tr>\n",
       "      <th>122</th>\n",
       "      <td>113.73</td>\n",
       "      <td>54.77</td>\n",
       "      <td>22.13</td>\n",
       "      <td>Op-5</td>\n",
       "      <td>Defective</td>\n",
       "    </tr>\n",
       "    <tr>\n",
       "      <th>125</th>\n",
       "      <td>106.63</td>\n",
       "      <td>56.26</td>\n",
       "      <td>21.42</td>\n",
       "      <td>Op-5</td>\n",
       "      <td>Defective</td>\n",
       "    </tr>\n",
       "    <tr>\n",
       "      <th>126</th>\n",
       "      <td>116.60</td>\n",
       "      <td>53.81</td>\n",
       "      <td>23.39</td>\n",
       "      <td>Op-5</td>\n",
       "      <td>Defective</td>\n",
       "    </tr>\n",
       "    <tr>\n",
       "      <th>127</th>\n",
       "      <td>115.28</td>\n",
       "      <td>47.98</td>\n",
       "      <td>21.49</td>\n",
       "      <td>Op-5</td>\n",
       "      <td>Defective</td>\n",
       "    </tr>\n",
       "    <tr>\n",
       "      <th>129</th>\n",
       "      <td>113.11</td>\n",
       "      <td>51.75</td>\n",
       "      <td>20.41</td>\n",
       "      <td>Op-5</td>\n",
       "      <td>Defective</td>\n",
       "    </tr>\n",
       "    <tr>\n",
       "      <th>130</th>\n",
       "      <td>112.59</td>\n",
       "      <td>51.29</td>\n",
       "      <td>20.64</td>\n",
       "      <td>Op-5</td>\n",
       "      <td>Defective</td>\n",
       "    </tr>\n",
       "  </tbody>\n",
       "</table>\n",
       "</div>"
      ],
      "text/plain": [
       "     Length  Width  Height Operator     Status\n",
       "41   110.54  51.07   21.95     Op-2  Defective\n",
       "56   110.18  51.89   21.36     Op-3  Defective\n",
       "61   105.00  57.26   21.62     Op-3  Defective\n",
       "63   110.72  52.54   21.06     Op-3  Defective\n",
       "67   112.69  50.68   20.33     Op-3  Defective\n",
       "68   111.83  53.31   20.12     Op-3  Defective\n",
       "69   103.73  58.26   20.37     Op-3  Defective\n",
       "71   109.87  52.23   20.94     Op-3  Defective\n",
       "73   113.45  46.96   23.31     Op-3  Defective\n",
       "85   104.22  42.74   19.05     Op-4  Defective\n",
       "86    87.52  46.54   18.92     Op-4  Defective\n",
       "93    88.28  45.58   18.64     Op-4  Defective\n",
       "105  111.07  51.19   22.17     Op-5  Defective\n",
       "120  110.71  52.01   21.58     Op-5  Defective\n",
       "122  113.73  54.77   22.13     Op-5  Defective\n",
       "125  106.63  56.26   21.42     Op-5  Defective\n",
       "126  116.60  53.81   23.39     Op-5  Defective\n",
       "127  115.28  47.98   21.49     Op-5  Defective\n",
       "129  113.11  51.75   20.41     Op-5  Defective\n",
       "130  112.59  51.29   20.64     Op-5  Defective"
      ]
     },
     "execution_count": 16,
     "metadata": {},
     "output_type": "execute_result"
    }
   ],
   "source": [
    "    # For instance, to return the Defective rows, you can use a single measure: \n",
    "#df[df['Length'] < boxplot_stats(df['Length'])[0]['whislo']]\n",
    "    # Or any Defective rows:\n",
    "df[df['Status']=='Defective']"
   ]
  },
  {
   "cell_type": "code",
   "execution_count": 17,
   "id": "c830e4fc",
   "metadata": {
    "execution": {
     "iopub.execute_input": "2022-07-14T14:03:43.161734Z",
     "iopub.status.busy": "2022-07-14T14:03:43.160888Z",
     "iopub.status.idle": "2022-07-14T14:03:43.170763Z",
     "shell.execute_reply": "2022-07-14T14:03:43.169508Z"
    },
    "papermill": {
     "duration": 0.033608,
     "end_time": "2022-07-14T14:03:43.173324",
     "exception": false,
     "start_time": "2022-07-14T14:03:43.139716",
     "status": "completed"
    },
    "tags": []
   },
   "outputs": [
    {
     "data": {
      "text/plain": [
       "Perfect      480\n",
       "Defective     20\n",
       "Name: Status, dtype: int64"
      ]
     },
     "execution_count": 17,
     "metadata": {},
     "output_type": "execute_result"
    }
   ],
   "source": [
    "df['Status'].value_counts()"
   ]
  },
  {
   "cell_type": "code",
   "execution_count": 18,
   "id": "5c1f6f17",
   "metadata": {
    "execution": {
     "iopub.execute_input": "2022-07-14T14:03:43.215070Z",
     "iopub.status.busy": "2022-07-14T14:03:43.214201Z",
     "iopub.status.idle": "2022-07-14T14:03:43.398224Z",
     "shell.execute_reply": "2022-07-14T14:03:43.396090Z"
    },
    "papermill": {
     "duration": 0.208472,
     "end_time": "2022-07-14T14:03:43.401169",
     "exception": false,
     "start_time": "2022-07-14T14:03:43.192697",
     "status": "completed"
    },
    "tags": []
   },
   "outputs": [
    {
     "data": {
      "text/plain": [
       "<AxesSubplot:xlabel='Status', ylabel='count'>"
      ]
     },
     "execution_count": 18,
     "metadata": {},
     "output_type": "execute_result"
    },
    {
     "data": {
      "image/png": "[encoded data removed]",
      "text/plain": [
       "<Figure size 432x288 with 1 Axes>"
      ]
     },
     "metadata": {},
     "output_type": "display_data"
    }
   ],
   "source": [
    "#plt.figure(figsize=(4,8))\n",
    "#sns.set_theme(style=\"whitegrid\")\n",
    "sns.countplot(data=df, x='Status')"
   ]
  },
  {
   "cell_type": "code",
   "execution_count": 19,
   "id": "953b2c38",
   "metadata": {
    "execution": {
     "iopub.execute_input": "2022-07-14T14:03:43.448354Z",
     "iopub.status.busy": "2022-07-14T14:03:43.447926Z",
     "iopub.status.idle": "2022-07-14T14:03:43.459625Z",
     "shell.execute_reply": "2022-07-14T14:03:43.458454Z"
    },
    "papermill": {
     "duration": 0.037983,
     "end_time": "2022-07-14T14:03:43.463698",
     "exception": false,
     "start_time": "2022-07-14T14:03:43.425715",
     "status": "completed"
    },
    "tags": []
   },
   "outputs": [
    {
     "name": "stdout",
     "output_type": "stream",
     "text": [
      "Percentage Defective: 4.0%\n",
      "Percentage Perfect:  96.0%\n"
     ]
    }
   ],
   "source": [
    "#(df['Status'] == 'Defective' / df['Status'] == 'Perfect'.sum()) * 100\n",
    "defective = 100*df[df['Status'] == 'Defective']['Status'].count() / df['Status'].count()\n",
    "perfect = 100*df[df['Status'] == 'Perfect']['Status'].count() / df['Status'].count()\n",
    "print(f'Percentage Defective: {defective}%')\n",
    "\n",
    "print(f'Percentage Perfect:  {perfect}%')"
   ]
  },
  {
   "cell_type": "markdown",
   "id": "10ec7f4d",
   "metadata": {
    "papermill": {
     "duration": 0.019378,
     "end_time": "2022-07-14T14:03:43.503715",
     "exception": false,
     "start_time": "2022-07-14T14:03:43.484337",
     "status": "completed"
    },
    "tags": []
   },
   "source": [
    "Unbalanced problem"
   ]
  },
  {
   "cell_type": "code",
   "execution_count": 20,
   "id": "1c15ec3a",
   "metadata": {
    "execution": {
     "iopub.execute_input": "2022-07-14T14:03:43.545716Z",
     "iopub.status.busy": "2022-07-14T14:03:43.544745Z",
     "iopub.status.idle": "2022-07-14T14:03:43.765499Z",
     "shell.execute_reply": "2022-07-14T14:03:43.764279Z"
    },
    "papermill": {
     "duration": 0.244174,
     "end_time": "2022-07-14T14:03:43.767895",
     "exception": false,
     "start_time": "2022-07-14T14:03:43.523721",
     "status": "completed"
    },
    "tags": []
   },
   "outputs": [
    {
     "data": {
      "text/plain": [
       "<AxesSubplot:xlabel='Status', ylabel='count'>"
      ]
     },
     "execution_count": 20,
     "metadata": {},
     "output_type": "execute_result"
    },
    {
     "data": {
      "image/png": "[encoded data removed]",
      "text/plain": [
       "<Figure size 432x288 with 1 Axes>"
      ]
     },
     "metadata": {},
     "output_type": "display_data"
    }
   ],
   "source": [
    "defective = df[df['Status'] == 'Defective']['Status']\n",
    "hue_op = df[df['Status'] == 'Defective']['Operator']\n",
    "sns.countplot(data=df, x=defective, hue=hue_op)"
   ]
  },
  {
   "cell_type": "markdown",
   "id": "97a20ab9",
   "metadata": {
    "papermill": {
     "duration": 0.019851,
     "end_time": "2022-07-14T14:03:43.807777",
     "exception": false,
     "start_time": "2022-07-14T14:03:43.787926",
     "status": "completed"
    },
    "tags": []
   },
   "source": [
    "So now we conclude that the operators with the highest number of errors were Op-2, Op-3, Op-4 and Op-5"
   ]
  },
  {
   "cell_type": "code",
   "execution_count": 21,
   "id": "4fa25e87",
   "metadata": {
    "execution": {
     "iopub.execute_input": "2022-07-14T14:03:43.852184Z",
     "iopub.status.busy": "2022-07-14T14:03:43.851436Z",
     "iopub.status.idle": "2022-07-14T14:03:43.866149Z",
     "shell.execute_reply": "2022-07-14T14:03:43.864891Z"
    },
    "papermill": {
     "duration": 0.040197,
     "end_time": "2022-07-14T14:03:43.868986",
     "exception": false,
     "start_time": "2022-07-14T14:03:43.828789",
     "status": "completed"
    },
    "tags": []
   },
   "outputs": [],
   "source": [
    "defective_op = df[df['Status'] == 'Defective']['Operator'].unique()\n",
    "defective_parts = df[df['Status'] == 'Defective']['Operator'].value_counts()\n",
    "defective_total = df['Operator'].value_counts()\n",
    "defective_comparision = (defective_parts/defective_total)[defective_op]"
   ]
  },
  {
   "cell_type": "code",
   "execution_count": 22,
   "id": "25bbcb35",
   "metadata": {
    "execution": {
     "iopub.execute_input": "2022-07-14T14:03:43.912032Z",
     "iopub.status.busy": "2022-07-14T14:03:43.911655Z",
     "iopub.status.idle": "2022-07-14T14:03:44.112449Z",
     "shell.execute_reply": "2022-07-14T14:03:44.111297Z"
    },
    "papermill": {
     "duration": 0.225044,
     "end_time": "2022-07-14T14:03:44.114993",
     "exception": false,
     "start_time": "2022-07-14T14:03:43.889949",
     "status": "completed"
    },
    "tags": []
   },
   "outputs": [
    {
     "data": {
      "text/plain": [
       "<AxesSubplot:ylabel='Operator'>"
      ]
     },
     "execution_count": 22,
     "metadata": {},
     "output_type": "execute_result"
    },
    {
     "data": {
      "image/png": "[encoded data removed]",
      "text/plain": [
       "<Figure size 432x288 with 1 Axes>"
      ]
     },
     "metadata": {},
     "output_type": "display_data"
    }
   ],
   "source": [
    "sns.barplot(x=defective_op, y=defective_comparision)"
   ]
  },
  {
   "cell_type": "markdown",
   "id": "1f3df347",
   "metadata": {
    "papermill": {
     "duration": 0.020149,
     "end_time": "2022-07-14T14:03:44.155642",
     "exception": false,
     "start_time": "2022-07-14T14:03:44.135493",
     "status": "completed"
    },
    "tags": []
   },
   "source": [
    "Op-5 is making 25% of its parts wrongly. Likewise, Op-3 is making more than 25% wrong.\n",
    "\n",
    "We should consider training sessions for these operators."
   ]
  },
  {
   "cell_type": "code",
   "execution_count": 23,
   "id": "ae174c60",
   "metadata": {
    "execution": {
     "iopub.execute_input": "2022-07-14T14:03:44.200438Z",
     "iopub.status.busy": "2022-07-14T14:03:44.200026Z",
     "iopub.status.idle": "2022-07-14T14:03:44.451579Z",
     "shell.execute_reply": "2022-07-14T14:03:44.450690Z"
    },
    "papermill": {
     "duration": 0.277027,
     "end_time": "2022-07-14T14:03:44.453843",
     "exception": false,
     "start_time": "2022-07-14T14:03:44.176816",
     "status": "completed"
    },
    "tags": []
   },
   "outputs": [
    {
     "data": {
      "text/plain": [
       "<AxesSubplot:>"
      ]
     },
     "execution_count": 23,
     "metadata": {},
     "output_type": "execute_result"
    },
    {
     "data": {
      "image/png": "[encoded data removed]",
      "text/plain": [
       "<Figure size 432x288 with 2 Axes>"
      ]
     },
     "metadata": {},
     "output_type": "display_data"
    }
   ],
   "source": [
    "sns.heatmap(df.corr(), annot=True, cmap='viridis')"
   ]
  },
  {
   "cell_type": "markdown",
   "id": "ad881729",
   "metadata": {
    "papermill": {
     "duration": 0.021495,
     "end_time": "2022-07-14T14:03:44.496784",
     "exception": false,
     "start_time": "2022-07-14T14:03:44.475289",
     "status": "completed"
    },
    "tags": []
   },
   "source": [
    "It seems there is no correlation between the measures"
   ]
  },
  {
   "cell_type": "code",
   "execution_count": 24,
   "id": "a24ff44e",
   "metadata": {
    "execution": {
     "iopub.execute_input": "2022-07-14T14:03:44.542774Z",
     "iopub.status.busy": "2022-07-14T14:03:44.541489Z",
     "iopub.status.idle": "2022-07-14T14:03:44.548400Z",
     "shell.execute_reply": "2022-07-14T14:03:44.547380Z"
    },
    "papermill": {
     "duration": 0.03293,
     "end_time": "2022-07-14T14:03:44.550780",
     "exception": false,
     "start_time": "2022-07-14T14:03:44.517850",
     "status": "completed"
    },
    "tags": []
   },
   "outputs": [],
   "source": [
    "meanL = df['Length'].mean() #99.76914\n",
    "meanW = df['Width'].mean() #49.932880000000004\n",
    "meanH = df['Height'].mean() #20.29322"
   ]
  },
  {
   "cell_type": "markdown",
   "id": "6e700d42",
   "metadata": {
    "papermill": {
     "duration": 0.020838,
     "end_time": "2022-07-14T14:03:44.592757",
     "exception": false,
     "start_time": "2022-07-14T14:03:44.571919",
     "status": "completed"
    },
    "tags": []
   },
   "source": [
    "So it seems that the expected measures of a part is:\n",
    "* **Length:** 100\n",
    "* **Width:** 50\n",
    "* **Height:** 20\n",
    "\n",
    "Or a **ratio of 5/2/1**"
   ]
  },
  {
   "cell_type": "markdown",
   "id": "dc29c9e5",
   "metadata": {
    "papermill": {
     "duration": 0.020691,
     "end_time": "2022-07-14T14:03:44.635026",
     "exception": false,
     "start_time": "2022-07-14T14:03:44.614335",
     "status": "completed"
    },
    "tags": []
   },
   "source": [
    "**As we saw earlier, the manufacturer has 4% defects rate in production. Let's considere the buyer decides to test 20 random parts and will accept the supplier if there are 2 or less defectives. What is the probability of getting accepted?**"
   ]
  },
  {
   "cell_type": "code",
   "execution_count": 25,
   "id": "80ac208f",
   "metadata": {
    "execution": {
     "iopub.execute_input": "2022-07-14T14:03:44.680745Z",
     "iopub.status.busy": "2022-07-14T14:03:44.679853Z",
     "iopub.status.idle": "2022-07-14T14:03:44.687168Z",
     "shell.execute_reply": "2022-07-14T14:03:44.685918Z"
    },
    "papermill": {
     "duration": 0.033929,
     "end_time": "2022-07-14T14:03:44.690156",
     "exception": false,
     "start_time": "2022-07-14T14:03:44.656227",
     "status": "completed"
    },
    "tags": []
   },
   "outputs": [],
   "source": [
    "two_rejections = round(100 * binom.sf(2, 20, 0.04),2)\n",
    "x_ax = np.arange(0, 21)\n",
    "y_ax = binom.pmf(x_ax, 20, 0.04)\n",
    "y_cumulative = binom.cdf(x_ax, 20, 0.04)"
   ]
  },
  {
   "cell_type": "code",
   "execution_count": 26,
   "id": "b7b8121e",
   "metadata": {
    "execution": {
     "iopub.execute_input": "2022-07-14T14:03:44.736051Z",
     "iopub.status.busy": "2022-07-14T14:03:44.735233Z",
     "iopub.status.idle": "2022-07-14T14:03:44.741757Z",
     "shell.execute_reply": "2022-07-14T14:03:44.740619Z"
    },
    "papermill": {
     "duration": 0.032528,
     "end_time": "2022-07-14T14:03:44.744072",
     "exception": false,
     "start_time": "2022-07-14T14:03:44.711544",
     "status": "completed"
    },
    "tags": []
   },
   "outputs": [
    {
     "name": "stdout",
     "output_type": "stream",
     "text": [
      "The percentage of rejections will be: 4.39%\n"
     ]
    }
   ],
   "source": [
    "print(f'The percentage of rejections will be: {two_rejections}%')"
   ]
  },
  {
   "cell_type": "code",
   "execution_count": 27,
   "id": "72ead791",
   "metadata": {
    "execution": {
     "iopub.execute_input": "2022-07-14T14:03:44.790104Z",
     "iopub.status.busy": "2022-07-14T14:03:44.789427Z",
     "iopub.status.idle": "2022-07-14T14:03:45.147011Z",
     "shell.execute_reply": "2022-07-14T14:03:45.145805Z"
    },
    "papermill": {
     "duration": 0.384105,
     "end_time": "2022-07-14T14:03:45.149557",
     "exception": false,
     "start_time": "2022-07-14T14:03:44.765452",
     "status": "completed"
    },
    "tags": []
   },
   "outputs": [
    {
     "data": {
      "text/plain": [
       "<AxesSubplot:>"
      ]
     },
     "execution_count": 27,
     "metadata": {},
     "output_type": "execute_result"
    },
    {
     "data": {
      "image/png": "[encoded data removed]",
      "text/plain": [
       "<Figure size 432x288 with 1 Axes>"
      ]
     },
     "metadata": {},
     "output_type": "display_data"
    }
   ],
   "source": [
    "sns.barplot(x=x_ax, y=y_ax)\n",
    "#Chances to have x defectives parts per sample.\n",
    "#For instance, around 45% of chance to have 0 defective per sample. Around 35% of chance to have just 1 defective per sample. And so on."
   ]
  },
  {
   "cell_type": "code",
   "execution_count": 28,
   "id": "cf6cb00a",
   "metadata": {
    "execution": {
     "iopub.execute_input": "2022-07-14T14:03:45.194332Z",
     "iopub.status.busy": "2022-07-14T14:03:45.193277Z",
     "iopub.status.idle": "2022-07-14T14:03:45.547949Z",
     "shell.execute_reply": "2022-07-14T14:03:45.546865Z"
    },
    "papermill": {
     "duration": 0.379668,
     "end_time": "2022-07-14T14:03:45.550465",
     "exception": false,
     "start_time": "2022-07-14T14:03:45.170797",
     "status": "completed"
    },
    "tags": []
   },
   "outputs": [
    {
     "data": {
      "text/plain": [
       "<AxesSubplot:>"
      ]
     },
     "execution_count": 28,
     "metadata": {},
     "output_type": "execute_result"
    },
    {
     "data": {
      "image/png": "[encoded data removed]",
      "text/plain": [
       "<Figure size 432x288 with 1 Axes>"
      ]
     },
     "metadata": {},
     "output_type": "display_data"
    }
   ],
   "source": [
    "sns.barplot(x=x_ax, y=y_cumulative)\n",
    "#Chances to have x defective parts or less per sample.\n",
    "#For instance, around 80% of chance to have 1 defective part or less per sample. Around 95% of chance to have 2 defective parts or less per sample."
   ]
  },
  {
   "cell_type": "markdown",
   "id": "184add97",
   "metadata": {
    "papermill": {
     "duration": 0.02112,
     "end_time": "2022-07-14T14:03:45.593808",
     "exception": false,
     "start_time": "2022-07-14T14:03:45.572688",
     "status": "completed"
    },
    "tags": []
   },
   "source": [
    "## Data PreProcessing"
   ]
  },
  {
   "cell_type": "markdown",
   "id": "42f023ae",
   "metadata": {
    "papermill": {
     "duration": 0.021315,
     "end_time": "2022-07-14T14:03:45.636982",
     "exception": false,
     "start_time": "2022-07-14T14:03:45.615667",
     "status": "completed"
    },
    "tags": []
   },
   "source": [
    "**Veryfing if we have missing data**"
   ]
  },
  {
   "cell_type": "code",
   "execution_count": 29,
   "id": "3fb8dc50",
   "metadata": {
    "execution": {
     "iopub.execute_input": "2022-07-14T14:03:45.682631Z",
     "iopub.status.busy": "2022-07-14T14:03:45.681906Z",
     "iopub.status.idle": "2022-07-14T14:03:45.690365Z",
     "shell.execute_reply": "2022-07-14T14:03:45.689457Z"
    },
    "papermill": {
     "duration": 0.034333,
     "end_time": "2022-07-14T14:03:45.692657",
     "exception": false,
     "start_time": "2022-07-14T14:03:45.658324",
     "status": "completed"
    },
    "tags": []
   },
   "outputs": [
    {
     "data": {
      "text/plain": [
       "Length      0\n",
       "Width       0\n",
       "Height      0\n",
       "Operator    0\n",
       "Status      0\n",
       "dtype: int64"
      ]
     },
     "execution_count": 29,
     "metadata": {},
     "output_type": "execute_result"
    }
   ],
   "source": [
    "df.isnull().sum()"
   ]
  },
  {
   "cell_type": "markdown",
   "id": "9f8c7510",
   "metadata": {
    "papermill": {
     "duration": 0.022417,
     "end_time": "2022-07-14T14:03:45.736656",
     "exception": false,
     "start_time": "2022-07-14T14:03:45.714239",
     "status": "completed"
    },
    "tags": []
   },
   "source": [
    "**Veryfing if we have categorial data and converting them to dummy variables.**"
   ]
  },
  {
   "cell_type": "code",
   "execution_count": 30,
   "id": "981a01eb",
   "metadata": {
    "execution": {
     "iopub.execute_input": "2022-07-14T14:03:45.783122Z",
     "iopub.status.busy": "2022-07-14T14:03:45.782457Z",
     "iopub.status.idle": "2022-07-14T14:03:45.794973Z",
     "shell.execute_reply": "2022-07-14T14:03:45.793363Z"
    },
    "papermill": {
     "duration": 0.039793,
     "end_time": "2022-07-14T14:03:45.797943",
     "exception": false,
     "start_time": "2022-07-14T14:03:45.758150",
     "status": "completed"
    },
    "tags": []
   },
   "outputs": [
    {
     "name": "stdout",
     "output_type": "stream",
     "text": [
      "<class 'pandas.core.frame.DataFrame'>\n",
      "RangeIndex: 500 entries, 0 to 499\n",
      "Data columns (total 5 columns):\n",
      " #   Column    Non-Null Count  Dtype  \n",
      "---  ------    --------------  -----  \n",
      " 0   Length    500 non-null    float64\n",
      " 1   Width     500 non-null    float64\n",
      " 2   Height    500 non-null    float64\n",
      " 3   Operator  500 non-null    object \n",
      " 4   Status    500 non-null    object \n",
      "dtypes: float64(3), object(2)\n",
      "memory usage: 19.7+ KB\n"
     ]
    }
   ],
   "source": [
    "df.info()"
   ]
  },
  {
   "cell_type": "code",
   "execution_count": 31,
   "id": "50c04d0b",
   "metadata": {
    "execution": {
     "iopub.execute_input": "2022-07-14T14:03:45.844012Z",
     "iopub.status.busy": "2022-07-14T14:03:45.843299Z",
     "iopub.status.idle": "2022-07-14T14:03:45.850089Z",
     "shell.execute_reply": "2022-07-14T14:03:45.848925Z"
    },
    "papermill": {
     "duration": 0.03267,
     "end_time": "2022-07-14T14:03:45.852701",
     "exception": false,
     "start_time": "2022-07-14T14:03:45.820031",
     "status": "completed"
    },
    "tags": []
   },
   "outputs": [],
   "source": [
    "#We can drop the Operator column\n",
    "df = df.drop('Operator', axis=1)\n",
    "\n",
    "#And we should covert the Status column to dummy variables\n",
    "categorical = [\"Status\"]"
   ]
  },
  {
   "cell_type": "code",
   "execution_count": 32,
   "id": "b261b09c",
   "metadata": {
    "execution": {
     "iopub.execute_input": "2022-07-14T14:03:45.900149Z",
     "iopub.status.busy": "2022-07-14T14:03:45.898759Z",
     "iopub.status.idle": "2022-07-14T14:03:45.908277Z",
     "shell.execute_reply": "2022-07-14T14:03:45.907019Z"
    },
    "papermill": {
     "duration": 0.035234,
     "end_time": "2022-07-14T14:03:45.910973",
     "exception": false,
     "start_time": "2022-07-14T14:03:45.875739",
     "status": "completed"
    },
    "tags": []
   },
   "outputs": [],
   "source": [
    "df_final = pd.get_dummies(df, columns=categorical, drop_first=True)"
   ]
  },
  {
   "cell_type": "code",
   "execution_count": 33,
   "id": "a44ea7dc",
   "metadata": {
    "execution": {
     "iopub.execute_input": "2022-07-14T14:03:45.959809Z",
     "iopub.status.busy": "2022-07-14T14:03:45.959394Z",
     "iopub.status.idle": "2022-07-14T14:03:45.978705Z",
     "shell.execute_reply": "2022-07-14T14:03:45.977541Z"
    },
    "papermill": {
     "duration": 0.048064,
     "end_time": "2022-07-14T14:03:45.981226",
     "exception": false,
     "start_time": "2022-07-14T14:03:45.933162",
     "status": "completed"
    },
    "tags": []
   },
   "outputs": [
    {
     "data": {
      "text/html": [
       "<div>\n",
       "<style scoped>\n",
       "    .dataframe tbody tr th:only-of-type {\n",
       "        vertical-align: middle;\n",
       "    }\n",
       "\n",
       "    .dataframe tbody tr th {\n",
       "        vertical-align: top;\n",
       "    }\n",
       "\n",
       "    .dataframe thead th {\n",
       "        text-align: right;\n",
       "    }\n",
       "</style>\n",
       "<table border=\"1\" class=\"dataframe\">\n",
       "  <thead>\n",
       "    <tr style=\"text-align: right;\">\n",
       "      <th></th>\n",
       "      <th>Length</th>\n",
       "      <th>Width</th>\n",
       "      <th>Height</th>\n",
       "      <th>Status_Perfect</th>\n",
       "    </tr>\n",
       "  </thead>\n",
       "  <tbody>\n",
       "    <tr>\n",
       "      <th>0</th>\n",
       "      <td>102.67</td>\n",
       "      <td>49.53</td>\n",
       "      <td>19.69</td>\n",
       "      <td>1</td>\n",
       "    </tr>\n",
       "    <tr>\n",
       "      <th>1</th>\n",
       "      <td>102.50</td>\n",
       "      <td>51.42</td>\n",
       "      <td>19.63</td>\n",
       "      <td>1</td>\n",
       "    </tr>\n",
       "    <tr>\n",
       "      <th>2</th>\n",
       "      <td>95.37</td>\n",
       "      <td>52.25</td>\n",
       "      <td>21.51</td>\n",
       "      <td>1</td>\n",
       "    </tr>\n",
       "    <tr>\n",
       "      <th>3</th>\n",
       "      <td>94.77</td>\n",
       "      <td>49.24</td>\n",
       "      <td>18.60</td>\n",
       "      <td>1</td>\n",
       "    </tr>\n",
       "    <tr>\n",
       "      <th>4</th>\n",
       "      <td>104.26</td>\n",
       "      <td>47.90</td>\n",
       "      <td>19.46</td>\n",
       "      <td>1</td>\n",
       "    </tr>\n",
       "    <tr>\n",
       "      <th>...</th>\n",
       "      <td>...</td>\n",
       "      <td>...</td>\n",
       "      <td>...</td>\n",
       "      <td>...</td>\n",
       "    </tr>\n",
       "    <tr>\n",
       "      <th>495</th>\n",
       "      <td>101.24</td>\n",
       "      <td>49.03</td>\n",
       "      <td>20.96</td>\n",
       "      <td>1</td>\n",
       "    </tr>\n",
       "    <tr>\n",
       "      <th>496</th>\n",
       "      <td>98.37</td>\n",
       "      <td>52.12</td>\n",
       "      <td>19.68</td>\n",
       "      <td>1</td>\n",
       "    </tr>\n",
       "    <tr>\n",
       "      <th>497</th>\n",
       "      <td>96.49</td>\n",
       "      <td>48.78</td>\n",
       "      <td>19.19</td>\n",
       "      <td>1</td>\n",
       "    </tr>\n",
       "    <tr>\n",
       "      <th>498</th>\n",
       "      <td>94.16</td>\n",
       "      <td>48.39</td>\n",
       "      <td>21.60</td>\n",
       "      <td>1</td>\n",
       "    </tr>\n",
       "    <tr>\n",
       "      <th>499</th>\n",
       "      <td>102.35</td>\n",
       "      <td>51.24</td>\n",
       "      <td>21.47</td>\n",
       "      <td>1</td>\n",
       "    </tr>\n",
       "  </tbody>\n",
       "</table>\n",
       "<p>500 rows × 4 columns</p>\n",
       "</div>"
      ],
      "text/plain": [
       "     Length  Width  Height  Status_Perfect\n",
       "0    102.67  49.53   19.69               1\n",
       "1    102.50  51.42   19.63               1\n",
       "2     95.37  52.25   21.51               1\n",
       "3     94.77  49.24   18.60               1\n",
       "4    104.26  47.90   19.46               1\n",
       "..      ...    ...     ...             ...\n",
       "495  101.24  49.03   20.96               1\n",
       "496   98.37  52.12   19.68               1\n",
       "497   96.49  48.78   19.19               1\n",
       "498   94.16  48.39   21.60               1\n",
       "499  102.35  51.24   21.47               1\n",
       "\n",
       "[500 rows x 4 columns]"
      ]
     },
     "execution_count": 33,
     "metadata": {},
     "output_type": "execute_result"
    }
   ],
   "source": [
    "df_final"
   ]
  },
  {
   "cell_type": "markdown",
   "id": "1e9b0808",
   "metadata": {
    "papermill": {
     "duration": 0.027968,
     "end_time": "2022-07-14T14:03:46.033237",
     "exception": false,
     "start_time": "2022-07-14T14:03:46.005269",
     "status": "completed"
    },
    "tags": []
   },
   "source": [
    "**Train Test Split**"
   ]
  },
  {
   "cell_type": "code",
   "execution_count": 34,
   "id": "0c7a3dec",
   "metadata": {
    "execution": {
     "iopub.execute_input": "2022-07-14T14:03:46.090966Z",
     "iopub.status.busy": "2022-07-14T14:03:46.090161Z",
     "iopub.status.idle": "2022-07-14T14:03:46.096753Z",
     "shell.execute_reply": "2022-07-14T14:03:46.095801Z"
    },
    "papermill": {
     "duration": 0.036018,
     "end_time": "2022-07-14T14:03:46.099295",
     "exception": false,
     "start_time": "2022-07-14T14:03:46.063277",
     "status": "completed"
    },
    "tags": []
   },
   "outputs": [],
   "source": [
    "X = df_final.drop('Status_Perfect', axis=1).values\n",
    "y = df_final[\"Status_Perfect\"].values"
   ]
  },
  {
   "cell_type": "code",
   "execution_count": 35,
   "id": "4bb4db7d",
   "metadata": {
    "execution": {
     "iopub.execute_input": "2022-07-14T14:03:46.145572Z",
     "iopub.status.busy": "2022-07-14T14:03:46.144829Z",
     "iopub.status.idle": "2022-07-14T14:03:46.151195Z",
     "shell.execute_reply": "2022-07-14T14:03:46.150261Z"
    },
    "papermill": {
     "duration": 0.03241,
     "end_time": "2022-07-14T14:03:46.153708",
     "exception": false,
     "start_time": "2022-07-14T14:03:46.121298",
     "status": "completed"
    },
    "tags": []
   },
   "outputs": [],
   "source": [
    "X_train, X_test, y_train, y_test = train_test_split(X, y, test_size=0.5, random_state=101)"
   ]
  },
  {
   "cell_type": "markdown",
   "id": "4a16228d",
   "metadata": {
    "papermill": {
     "duration": 0.022362,
     "end_time": "2022-07-14T14:03:46.198484",
     "exception": false,
     "start_time": "2022-07-14T14:03:46.176122",
     "status": "completed"
    },
    "tags": []
   },
   "source": [
    "**Normalizing the Data**"
   ]
  },
  {
   "cell_type": "code",
   "execution_count": 36,
   "id": "873df716",
   "metadata": {
    "execution": {
     "iopub.execute_input": "2022-07-14T14:03:46.246074Z",
     "iopub.status.busy": "2022-07-14T14:03:46.245257Z",
     "iopub.status.idle": "2022-07-14T14:03:46.250398Z",
     "shell.execute_reply": "2022-07-14T14:03:46.249591Z"
    },
    "papermill": {
     "duration": 0.031783,
     "end_time": "2022-07-14T14:03:46.252820",
     "exception": false,
     "start_time": "2022-07-14T14:03:46.221037",
     "status": "completed"
    },
    "tags": []
   },
   "outputs": [],
   "source": [
    "scaler = MinMaxScaler()"
   ]
  },
  {
   "cell_type": "code",
   "execution_count": 37,
   "id": "8eae05f0",
   "metadata": {
    "execution": {
     "iopub.execute_input": "2022-07-14T14:03:46.299702Z",
     "iopub.status.busy": "2022-07-14T14:03:46.298952Z",
     "iopub.status.idle": "2022-07-14T14:03:46.304919Z",
     "shell.execute_reply": "2022-07-14T14:03:46.303967Z"
    },
    "papermill": {
     "duration": 0.031817,
     "end_time": "2022-07-14T14:03:46.307196",
     "exception": false,
     "start_time": "2022-07-14T14:03:46.275379",
     "status": "completed"
    },
    "tags": []
   },
   "outputs": [],
   "source": [
    "X_train = scaler.fit_transform(X_train)\n",
    "X_test = scaler.transform(X_test)"
   ]
  },
  {
   "cell_type": "markdown",
   "id": "e2aa2a04",
   "metadata": {
    "papermill": {
     "duration": 0.022245,
     "end_time": "2022-07-14T14:03:46.351279",
     "exception": false,
     "start_time": "2022-07-14T14:03:46.329034",
     "status": "completed"
    },
    "tags": []
   },
   "source": [
    "**Creating the Model**"
   ]
  },
  {
   "cell_type": "code",
   "execution_count": 38,
   "id": "02bbbac7",
   "metadata": {
    "execution": {
     "iopub.execute_input": "2022-07-14T14:03:46.399382Z",
     "iopub.status.busy": "2022-07-14T14:03:46.398597Z",
     "iopub.status.idle": "2022-07-14T14:03:46.405437Z",
     "shell.execute_reply": "2022-07-14T14:03:46.404607Z"
    },
    "papermill": {
     "duration": 0.033468,
     "end_time": "2022-07-14T14:03:46.407741",
     "exception": false,
     "start_time": "2022-07-14T14:03:46.374273",
     "status": "completed"
    },
    "tags": []
   },
   "outputs": [
    {
     "data": {
      "text/plain": [
       "(250, 3)"
      ]
     },
     "execution_count": 38,
     "metadata": {},
     "output_type": "execute_result"
    }
   ],
   "source": [
    "X_train.shape"
   ]
  },
  {
   "cell_type": "code",
   "execution_count": 39,
   "id": "0a6e4d69",
   "metadata": {
    "execution": {
     "iopub.execute_input": "2022-07-14T14:03:46.454569Z",
     "iopub.status.busy": "2022-07-14T14:03:46.453773Z",
     "iopub.status.idle": "2022-07-14T14:03:46.551989Z",
     "shell.execute_reply": "2022-07-14T14:03:46.550819Z"
    },
    "papermill": {
     "duration": 0.125408,
     "end_time": "2022-07-14T14:03:46.555240",
     "exception": false,
     "start_time": "2022-07-14T14:03:46.429832",
     "status": "completed"
    },
    "tags": []
   },
   "outputs": [
    {
     "name": "stderr",
     "output_type": "stream",
     "text": [
      "2022-07-14 14:03:46.496970: I tensorflow/core/common_runtime/process_util.cc:146] Creating new thread pool with default inter op setting: 2. Tune using inter_op_parallelism_threads for best performance.\n"
     ]
    }
   ],
   "source": [
    "model = Sequential()\n",
    "\n",
    "model.add(Dense(12, activation=\"relu\"))\n",
    "model.add(Dropout(0.2)) #preventing overfitting\n",
    "\n",
    "model.add(Dense(6, activation=\"relu\")) #reducing number of neurons of a half\n",
    "model.add(Dropout(0.2))\n",
    "\n",
    "model.add(Dense(3, activation=\"relu\"))\n",
    "model.add(Dropout(0.2))\n",
    "\n",
    "model.add(Dense(units=1, activation=\"sigmoid\")) #because it's a binary classification\n",
    "\n",
    "model.compile(loss=\"binary_crossentropy\", optimizer=\"adam\")"
   ]
  },
  {
   "cell_type": "code",
   "execution_count": 40,
   "id": "3de84c1d",
   "metadata": {
    "execution": {
     "iopub.execute_input": "2022-07-14T14:03:46.603910Z",
     "iopub.status.busy": "2022-07-14T14:03:46.603176Z",
     "iopub.status.idle": "2022-07-14T14:03:49.726821Z",
     "shell.execute_reply": "2022-07-14T14:03:49.725574Z"
    },
    "papermill": {
     "duration": 3.150584,
     "end_time": "2022-07-14T14:03:49.729421",
     "exception": false,
     "start_time": "2022-07-14T14:03:46.578837",
     "status": "completed"
    },
    "tags": []
   },
   "outputs": [
    {
     "name": "stderr",
     "output_type": "stream",
     "text": [
      "2022-07-14 14:03:46.701906: I tensorflow/compiler/mlir/mlir_graph_optimization_pass.cc:185] None of the MLIR Optimization Passes are enabled (registered 2)\n"
     ]
    },
    {
     "name": "stdout",
     "output_type": "stream",
     "text": [
      "Epoch 1/25\n",
      "8/8 [==============================] - 1s 35ms/step - loss: 0.7522 - val_loss: 0.7356\n",
      "Epoch 2/25\n",
      "8/8 [==============================] - 0s 9ms/step - loss: 0.7306 - val_loss: 0.7117\n",
      "Epoch 3/25\n",
      "8/8 [==============================] - 0s 8ms/step - loss: 0.7084 - val_loss: 0.6956\n",
      "Epoch 4/25\n",
      "8/8 [==============================] - 0s 9ms/step - loss: 0.6944 - val_loss: 0.6848\n",
      "Epoch 5/25\n",
      "8/8 [==============================] - 0s 9ms/step - loss: 0.6843 - val_loss: 0.6779\n",
      "Epoch 6/25\n",
      "8/8 [==============================] - 0s 9ms/step - loss: 0.6774 - val_loss: 0.6729\n",
      "Epoch 7/25\n",
      "8/8 [==============================] - 0s 8ms/step - loss: 0.6742 - val_loss: 0.6687\n",
      "Epoch 8/25\n",
      "8/8 [==============================] - 0s 8ms/step - loss: 0.6695 - val_loss: 0.6648\n",
      "Epoch 9/25\n",
      "8/8 [==============================] - 0s 8ms/step - loss: 0.6648 - val_loss: 0.6612\n",
      "Epoch 10/25\n",
      "8/8 [==============================] - 0s 8ms/step - loss: 0.6621 - val_loss: 0.6576\n",
      "Epoch 11/25\n",
      "8/8 [==============================] - 0s 8ms/step - loss: 0.6581 - val_loss: 0.6540\n",
      "Epoch 12/25\n",
      "8/8 [==============================] - 0s 9ms/step - loss: 0.6544 - val_loss: 0.6506\n",
      "Epoch 13/25\n",
      "8/8 [==============================] - 0s 8ms/step - loss: 0.6512 - val_loss: 0.6471\n",
      "Epoch 14/25\n",
      "8/8 [==============================] - 0s 9ms/step - loss: 0.6477 - val_loss: 0.6437\n",
      "Epoch 15/25\n",
      "8/8 [==============================] - 0s 8ms/step - loss: 0.6442 - val_loss: 0.6403\n",
      "Epoch 16/25\n",
      "8/8 [==============================] - 0s 8ms/step - loss: 0.6415 - val_loss: 0.6369\n",
      "Epoch 17/25\n",
      "8/8 [==============================] - 0s 8ms/step - loss: 0.6378 - val_loss: 0.6336\n",
      "Epoch 18/25\n",
      "8/8 [==============================] - 0s 8ms/step - loss: 0.6348 - val_loss: 0.6303\n",
      "Epoch 19/25\n",
      "8/8 [==============================] - 0s 8ms/step - loss: 0.6313 - val_loss: 0.6270\n",
      "Epoch 20/25\n",
      "8/8 [==============================] - 0s 8ms/step - loss: 0.6284 - val_loss: 0.6237\n",
      "Epoch 21/25\n",
      "8/8 [==============================] - 0s 8ms/step - loss: 0.6248 - val_loss: 0.6204\n",
      "Epoch 22/25\n",
      "8/8 [==============================] - 0s 8ms/step - loss: 0.6220 - val_loss: 0.6172\n",
      "Epoch 23/25\n",
      "8/8 [==============================] - 0s 8ms/step - loss: 0.6186 - val_loss: 0.6140\n",
      "Epoch 24/25\n",
      "8/8 [==============================] - 0s 8ms/step - loss: 0.6157 - val_loss: 0.6108\n",
      "Epoch 25/25\n",
      "8/8 [==============================] - 0s 8ms/step - loss: 0.6127 - val_loss: 0.6076\n"
     ]
    },
    {
     "data": {
      "text/plain": [
       "<keras.callbacks.History at 0x7ff5f191d110>"
      ]
     },
     "execution_count": 40,
     "metadata": {},
     "output_type": "execute_result"
    }
   ],
   "source": [
    "model.fit(x = X_train, y = y_train, epochs = 25, validation_data=(X_test, y_test))"
   ]
  },
  {
   "cell_type": "markdown",
   "id": "fd6ac0c5",
   "metadata": {
    "papermill": {
     "duration": 0.02647,
     "end_time": "2022-07-14T14:03:49.783062",
     "exception": false,
     "start_time": "2022-07-14T14:03:49.756592",
     "status": "completed"
    },
    "tags": []
   },
   "source": [
    "## Evaluating Model Performance"
   ]
  },
  {
   "cell_type": "code",
   "execution_count": 41,
   "id": "a8ed5f32",
   "metadata": {
    "execution": {
     "iopub.execute_input": "2022-07-14T14:03:49.839165Z",
     "iopub.status.busy": "2022-07-14T14:03:49.838388Z",
     "iopub.status.idle": "2022-07-14T14:03:49.846559Z",
     "shell.execute_reply": "2022-07-14T14:03:49.845419Z"
    },
    "papermill": {
     "duration": 0.038775,
     "end_time": "2022-07-14T14:03:49.848955",
     "exception": false,
     "start_time": "2022-07-14T14:03:49.810180",
     "status": "completed"
    },
    "tags": []
   },
   "outputs": [
    {
     "data": {
      "text/plain": [
       "{'loss': [0.7522139549255371,\n",
       "  0.7305896878242493,\n",
       "  0.7084228992462158,\n",
       "  0.694375216960907,\n",
       "  0.6842632293701172,\n",
       "  0.6774479746818542,\n",
       "  0.6741849780082703,\n",
       "  0.6694771647453308,\n",
       "  0.6647990942001343,\n",
       "  0.6620831489562988,\n",
       "  0.6581305265426636,\n",
       "  0.6543987989425659,\n",
       "  0.651176393032074,\n",
       "  0.6476763486862183,\n",
       "  0.6442337036132812,\n",
       "  0.6414853930473328,\n",
       "  0.6377533078193665,\n",
       "  0.6348304152488708,\n",
       "  0.6312584280967712,\n",
       "  0.6283591985702515,\n",
       "  0.6248125433921814,\n",
       "  0.6219608783721924,\n",
       "  0.6186041831970215,\n",
       "  0.6156750321388245,\n",
       "  0.612652063369751],\n",
       " 'val_loss': [0.7355512976646423,\n",
       "  0.7117015719413757,\n",
       "  0.6955739259719849,\n",
       "  0.6847931742668152,\n",
       "  0.6779171824455261,\n",
       "  0.6728697419166565,\n",
       "  0.6686716079711914,\n",
       "  0.6648170948028564,\n",
       "  0.6612193584442139,\n",
       "  0.6575942039489746,\n",
       "  0.6540298461914062,\n",
       "  0.6505703330039978,\n",
       "  0.647128701210022,\n",
       "  0.6436949372291565,\n",
       "  0.6403126120567322,\n",
       "  0.636946976184845,\n",
       "  0.6335975527763367,\n",
       "  0.6302674412727356,\n",
       "  0.6269722580909729,\n",
       "  0.6236564517021179,\n",
       "  0.6204425692558289,\n",
       "  0.6172173023223877,\n",
       "  0.6139902472496033,\n",
       "  0.6107925772666931,\n",
       "  0.6076123118400574]}"
      ]
     },
     "execution_count": 41,
     "metadata": {},
     "output_type": "execute_result"
    }
   ],
   "source": [
    "model.history.history #dictionary of losses"
   ]
  },
  {
   "cell_type": "code",
   "execution_count": 42,
   "id": "0066b0e8",
   "metadata": {
    "execution": {
     "iopub.execute_input": "2022-07-14T14:03:49.906191Z",
     "iopub.status.busy": "2022-07-14T14:03:49.904983Z",
     "iopub.status.idle": "2022-07-14T14:03:49.911214Z",
     "shell.execute_reply": "2022-07-14T14:03:49.910409Z"
    },
    "papermill": {
     "duration": 0.037795,
     "end_time": "2022-07-14T14:03:49.913508",
     "exception": false,
     "start_time": "2022-07-14T14:03:49.875713",
     "status": "completed"
    },
    "tags": []
   },
   "outputs": [],
   "source": [
    "losses = pd.DataFrame(model.history.history)"
   ]
  },
  {
   "cell_type": "code",
   "execution_count": 43,
   "id": "f3bfd79c",
   "metadata": {
    "execution": {
     "iopub.execute_input": "2022-07-14T14:03:49.970192Z",
     "iopub.status.busy": "2022-07-14T14:03:49.968926Z",
     "iopub.status.idle": "2022-07-14T14:03:50.250368Z",
     "shell.execute_reply": "2022-07-14T14:03:50.249139Z"
    },
    "papermill": {
     "duration": 0.313083,
     "end_time": "2022-07-14T14:03:50.253216",
     "exception": false,
     "start_time": "2022-07-14T14:03:49.940133",
     "status": "completed"
    },
    "tags": []
   },
   "outputs": [
    {
     "data": {
      "text/plain": [
       "<AxesSubplot:>"
      ]
     },
     "execution_count": 43,
     "metadata": {},
     "output_type": "execute_result"
    },
    {
     "data": {
      "image/png": "[encoded data removed]",
      "text/plain": [
       "<Figure size 432x288 with 1 Axes>"
      ]
     },
     "metadata": {},
     "output_type": "display_data"
    }
   ],
   "source": [
    "losses.plot()"
   ]
  },
  {
   "cell_type": "markdown",
   "id": "425f120c",
   "metadata": {
    "papermill": {
     "duration": 0.027127,
     "end_time": "2022-07-14T14:03:50.308013",
     "exception": false,
     "start_time": "2022-07-14T14:03:50.280886",
     "status": "completed"
    },
    "tags": []
   },
   "source": [
    "**Creating predictions from the X_test set and displaying a classification report and confusion matrix for the X_test set.**"
   ]
  },
  {
   "cell_type": "code",
   "execution_count": 44,
   "id": "2bb8f3fc",
   "metadata": {
    "execution": {
     "iopub.execute_input": "2022-07-14T14:03:50.366617Z",
     "iopub.status.busy": "2022-07-14T14:03:50.365357Z",
     "iopub.status.idle": "2022-07-14T14:03:50.526127Z",
     "shell.execute_reply": "2022-07-14T14:03:50.525061Z"
    },
    "papermill": {
     "duration": 0.192607,
     "end_time": "2022-07-14T14:03:50.528815",
     "exception": false,
     "start_time": "2022-07-14T14:03:50.336208",
     "status": "completed"
    },
    "tags": []
   },
   "outputs": [],
   "source": [
    "predictions = (model.predict(X_test) > 0.5).astype(\"int32\")"
   ]
  },
  {
   "cell_type": "code",
   "execution_count": 45,
   "id": "7a7b4674",
   "metadata": {
    "execution": {
     "iopub.execute_input": "2022-07-14T14:03:50.587302Z",
     "iopub.status.busy": "2022-07-14T14:03:50.586114Z",
     "iopub.status.idle": "2022-07-14T14:03:50.600885Z",
     "shell.execute_reply": "2022-07-14T14:03:50.599581Z"
    },
    "papermill": {
     "duration": 0.0463,
     "end_time": "2022-07-14T14:03:50.603172",
     "exception": false,
     "start_time": "2022-07-14T14:03:50.556872",
     "status": "completed"
    },
    "tags": []
   },
   "outputs": [
    {
     "name": "stdout",
     "output_type": "stream",
     "text": [
      "              precision    recall  f1-score   support\n",
      "\n",
      "           0       0.00      0.00      0.00         8\n",
      "           1       0.97      1.00      0.98       242\n",
      "\n",
      "    accuracy                           0.97       250\n",
      "   macro avg       0.48      0.50      0.49       250\n",
      "weighted avg       0.94      0.97      0.95       250\n",
      "\n"
     ]
    },
    {
     "name": "stderr",
     "output_type": "stream",
     "text": [
      "/opt/conda/lib/python3.7/site-packages/sklearn/metrics/_classification.py:1318: UndefinedMetricWarning: Precision and F-score are ill-defined and being set to 0.0 in labels with no predicted samples. Use `zero_division` parameter to control this behavior.\n",
      "  _warn_prf(average, modifier, msg_start, len(result))\n",
      "/opt/conda/lib/python3.7/site-packages/sklearn/metrics/_classification.py:1318: UndefinedMetricWarning: Precision and F-score are ill-defined and being set to 0.0 in labels with no predicted samples. Use `zero_division` parameter to control this behavior.\n",
      "  _warn_prf(average, modifier, msg_start, len(result))\n",
      "/opt/conda/lib/python3.7/site-packages/sklearn/metrics/_classification.py:1318: UndefinedMetricWarning: Precision and F-score are ill-defined and being set to 0.0 in labels with no predicted samples. Use `zero_division` parameter to control this behavior.\n",
      "  _warn_prf(average, modifier, msg_start, len(result))\n"
     ]
    }
   ],
   "source": [
    "print(classification_report(y_test, predictions))"
   ]
  },
  {
   "cell_type": "code",
   "execution_count": 46,
   "id": "4f3f91ea",
   "metadata": {
    "execution": {
     "iopub.execute_input": "2022-07-14T14:03:50.661104Z",
     "iopub.status.busy": "2022-07-14T14:03:50.660367Z",
     "iopub.status.idle": "2022-07-14T14:03:50.668095Z",
     "shell.execute_reply": "2022-07-14T14:03:50.666328Z"
    },
    "papermill": {
     "duration": 0.040012,
     "end_time": "2022-07-14T14:03:50.670637",
     "exception": false,
     "start_time": "2022-07-14T14:03:50.630625",
     "status": "completed"
    },
    "tags": []
   },
   "outputs": [
    {
     "name": "stdout",
     "output_type": "stream",
     "text": [
      "[[  0   8]\n",
      " [  0 242]]\n"
     ]
    }
   ],
   "source": [
    "print(confusion_matrix(y_test, predictions))"
   ]
  },
  {
   "cell_type": "markdown",
   "id": "d506770d",
   "metadata": {
    "papermill": {
     "duration": 0.027145,
     "end_time": "2022-07-14T14:03:50.725888",
     "exception": false,
     "start_time": "2022-07-14T14:03:50.698743",
     "status": "completed"
    },
    "tags": []
   },
   "source": [
    "* We had 97% of accuracy on our model. But the model didn't perform well because of the very unbalanced data and the small sample.\n",
    "* We suffered with all the features (precision, recall and F1-score) for class 0 (zero) - defectives."
   ]
  }
 ],
 "metadata": {
  "kernelspec": {
   "display_name": "Python 3",
   "language": "python",
   "name": "python3"
  },
  "language_info": {
   "codemirror_mode": {
    "name": "ipython",
    "version": 3
   },
   "file_extension": ".py",
   "mimetype": "text/x-python",
   "name": "python",
   "nbconvert_exporter": "python",
   "pygments_lexer": "ipython3",
   "version": "3.7.12"
  },
  "papermill": {
   "default_parameters": {},
   "duration": 37.861176,
   "end_time": "2022-07-14T14:03:53.500990",
   "environment_variables": {},
   "exception": null,
   "input_path": "__notebook__.ipynb",
   "output_path": "__notebook__.ipynb",
   "parameters": {},
   "start_time": "2022-07-14T14:03:15.639814",
   "version": "2.3.4"
  }
 },
 "nbformat": 4,
 "nbformat_minor": 5
}
